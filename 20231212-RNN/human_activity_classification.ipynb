{
  "cells": [
    {
      "cell_type": "code",
      "execution_count": null,
      "id": "f6b07cb1",
      "metadata": {
        "id": "f6b07cb1"
      },
      "outputs": [],
      "source": [
        "import numpy as np\n",
        "import matplotlib.pyplot as plt\n",
        "\n",
        "from keras.models import Sequential\n",
        "from keras.layers import Dense\n",
        "from keras.layers import Dropout\n",
        "from keras.layers import LSTM\n",
        "from keras.utils import to_categorical"
      ]
    },
    {
      "cell_type": "code",
      "execution_count": null,
      "id": "bb0401c8",
      "metadata": {
        "id": "bb0401c8"
      },
      "outputs": [],
      "source": [
        "# Useful Constants\n",
        "\n",
        "# Those are separate normalized input features for the neural network\n",
        "INPUT_SIGNAL_TYPES=[\"body_acc_x_\",\n",
        "                    \"body_acc_y_\",\n",
        "                    \"body_acc_z_\",\n",
        "                    \"body_gyro_x_\",\n",
        "                    \"body_gyro_y_\",\n",
        "                    \"body_gyro_z_\",\n",
        "                    \"total_acc_x_\",\n",
        "                    \"total_acc_y_\",\n",
        "                    \"total_acc_z_\"]\n",
        "\n",
        "# Output classes to learn how to classify\n",
        "LABELS=[\"WALKING\",\n",
        "        \"WALKING_UPSTAIRS\",\n",
        "        \"WALKING_DOWNSTAIRS\",\n",
        "        \"SITTING\",\n",
        "        \"STANDING\",\n",
        "        \"LAYING\"]"
      ]
    },
    {
      "cell_type": "markdown",
      "id": "8f47d30e",
      "metadata": {
        "id": "8f47d30e"
      },
      "source": [
        "## Load Data"
      ]
    },
    {
      "cell_type": "code",
      "execution_count": null,
      "id": "98359716",
      "metadata": {
        "id": "98359716"
      },
      "outputs": [],
      "source": [
        "# Load \"X\" (the neural network's training and testing inputs)\n",
        "def load_X(X_signals_paths):\n",
        "    X_signals = []\n",
        "\n",
        "    for signal_type_path in X_signals_paths:\n",
        "        file = open(signal_type_path, 'r')\n",
        "        # Read dataset from disk, dealing with text files' syntax\n",
        "        X_signals.append(\n",
        "            [np.array(serie, dtype=np.float32) for serie in [\n",
        "                row.replace('  ', ' ').strip().split(' ') for row in file\n",
        "            ]]\n",
        "        )\n",
        "        file.close()\n",
        "\n",
        "    return np.transpose(np.array(X_signals), (1, 2, 0))\n",
        "\n",
        "# Load \"y\" (the neural network's training and testing outputs)\n",
        "def load_y(y_path):\n",
        "    file = open(y_path, 'r')\n",
        "    # Read dataset from disk, dealing with text file's syntax\n",
        "    y_ = np.array(\n",
        "        [elem for elem in [\n",
        "            row.replace('  ', ' ').strip().split(' ') for row in file\n",
        "        ]],\n",
        "        dtype=np.int32\n",
        "    )\n",
        "    file.close()\n",
        "\n",
        "    # Substract 1 to each output class for friendly 0-based indexing\n",
        "    return y_ - 1"
      ]
    },
    {
      "cell_type": "code",
      "execution_count": null,
      "id": "bf72854e",
      "metadata": {
        "id": "bf72854e"
      },
      "outputs": [],
      "source": [
        "X_train_signals_paths=[\"UCI HAR Dataset/train/Inertial Signals/\"+signal+\"train.txt\" for signal in INPUT_SIGNAL_TYPES]\n",
        "X_test_signals_paths=[\"UCI HAR Dataset/test/Inertial Signals/\"+signal+\"test.txt\" for signal in INPUT_SIGNAL_TYPES]\n",
        "\n",
        "X_train=load_X(X_train_signals_paths)\n",
        "X_test=load_X(X_test_signals_paths)"
      ]
    },
    {
      "cell_type": "code",
      "execution_count": null,
      "id": "08a8eba7",
      "metadata": {
        "id": "08a8eba7"
      },
      "outputs": [],
      "source": [
        "y_train_path=\"UCI HAR Dataset/train/y_train.txt\"\n",
        "y_test_path=\"UCI HAR Dataset/test/y_test.txt\"\n",
        "\n",
        "y_train=load_y(y_train_path)\n",
        "y_test=load_y(y_test_path)"
      ]
    },
    {
      "cell_type": "code",
      "execution_count": null,
      "id": "50612933",
      "metadata": {
        "id": "50612933",
        "outputId": "5464a710-a0d9-434e-e64f-df07bba3e2e1"
      },
      "outputs": [
        {
          "name": "stdout",
          "output_type": "stream",
          "text": [
            "X_train: (7352, 128, 9)\n",
            "y_train: (7352, 1)\n",
            "X_test:  (2947, 128, 9)\n",
            "y_test:  (2947, 1)\n"
          ]
        }
      ],
      "source": [
        "# 7352 training series (with 50% overlap between each series)\n",
        "# 128 timesteps per series\n",
        "# 9 input parameters per timestep\n",
        "print(\"X_train: \"+str(X_train.shape))\n",
        "print(\"y_train: \"+str(y_train.shape))\n",
        "\n",
        "# 2947 testing series\n",
        "# 128 timesteps per series\n",
        "# 9 input parameters per timestep\n",
        "print(\"X_test:  \"+str(X_test.shape))\n",
        "print(\"y_test:  \"+str(y_test.shape))"
      ]
    },
    {
      "cell_type": "code",
      "execution_count": null,
      "id": "6d9eb435",
      "metadata": {
        "id": "6d9eb435",
        "outputId": "c21cd96c-afdd-4f5a-9ff4-e019052dde12"
      },
      "outputs": [
        {
          "name": "stdout",
          "output_type": "stream",
          "text": [
            "y_train: (7352, 6)\n",
            "y_test:  (2947, 6)\n"
          ]
        }
      ],
      "source": [
        "# one-hot encode to fit multi-class classification model\n",
        "y_train=to_categorical(y_train)\n",
        "y_test=to_categorical(y_test)\n",
        "\n",
        "print(\"y_train: \"+str(y_train.shape))\n",
        "print(\"y_test:  \"+str(y_test.shape))"
      ]
    },
    {
      "cell_type": "code",
      "execution_count": null,
      "id": "e6a04b78",
      "metadata": {
        "scrolled": false,
        "id": "e6a04b78",
        "outputId": "86ddf578-7d8d-425a-bd1e-fa9b3fba3f05"
      },
      "outputs": [
        {
          "data": {
            "text/plain": [
              "array([[[ 1.808515e-04,  1.076681e-02,  5.556068e-02, ...,\n",
              "          1.012817e+00, -1.232167e-01,  1.029341e-01],\n",
              "        [ 1.013856e-02,  6.579480e-03,  5.512483e-02, ...,\n",
              "          1.022833e+00, -1.268756e-01,  1.056872e-01],\n",
              "        [ 9.275574e-03,  8.928878e-03,  4.840473e-02, ...,\n",
              "          1.022028e+00, -1.240037e-01,  1.021025e-01],\n",
              "        ...,\n",
              "        [-1.147484e-03,  1.714439e-04,  2.647864e-03, ...,\n",
              "          1.018445e+00, -1.240696e-01,  1.003852e-01],\n",
              "        [-2.222655e-04,  1.574181e-03,  2.381057e-03, ...,\n",
              "          1.019372e+00, -1.227451e-01,  9.987355e-02],\n",
              "        [ 1.575500e-03,  3.070189e-03, -2.269757e-03, ...,\n",
              "          1.021171e+00, -1.213260e-01,  9.498741e-02]],\n",
              "\n",
              "       [[ 1.093752e-03, -4.687588e-03, -2.685954e-02, ...,\n",
              "          1.018851e+00, -1.239760e-01,  9.792958e-02],\n",
              "        [ 4.550077e-03, -7.487894e-03, -2.509841e-02, ...,\n",
              "          1.022380e+00, -1.268078e-01,  9.935086e-02],\n",
              "        [ 2.879173e-03, -8.429991e-03, -2.597534e-02, ...,\n",
              "          1.020781e+00, -1.277862e-01,  9.811381e-02],\n",
              "        ...,\n",
              "        [-4.646144e-03, -5.479850e-03, -2.996671e-04, ...,\n",
              "          1.014788e+00, -1.290268e-01,  9.353520e-02],\n",
              "        [-2.941333e-03, -2.987481e-03, -4.886324e-03, ...,\n",
              "          1.016499e+00, -1.264244e-01,  8.903516e-02],\n",
              "        [-1.598751e-03, -7.192009e-03, -3.397195e-03, ...,\n",
              "          1.017849e+00, -1.305193e-01,  9.061235e-02]],\n",
              "\n",
              "       [[ 3.531266e-03,  4.455942e-03, -5.914581e-03, ...,\n",
              "          1.023127e+00, -1.200157e-01,  9.111667e-02],\n",
              "        [ 2.285063e-03,  3.045876e-03, -4.138911e-03, ...,\n",
              "          1.021882e+00, -1.214994e-01,  9.267560e-02],\n",
              "        [-4.197538e-04,  1.776179e-03, -5.428851e-04, ...,\n",
              "          1.019178e+00, -1.228407e-01,  9.606378e-02],\n",
              "        ...,\n",
              "        [ 1.245999e-03, -6.397631e-03, -1.144203e-02, ...,\n",
              "          1.021041e+00, -1.308757e-01,  8.301135e-02],\n",
              "        [ 3.116783e-03, -6.601456e-03, -1.203020e-02, ...,\n",
              "          1.022935e+00, -1.312099e-01,  8.233391e-02],\n",
              "        [ 2.177658e-03, -5.442240e-03, -1.278381e-02, ...,\n",
              "          1.022019e+00, -1.301826e-01,  8.148748e-02]],\n",
              "\n",
              "       ...,\n",
              "\n",
              "       [[-2.267175e-01,  5.684462e-02,  2.289274e-01, ...,\n",
              "          7.548917e-01, -1.711829e-01,  1.745865e-01],\n",
              "        [-1.778169e-01,  2.716956e-02,  2.890968e-01, ...,\n",
              "          8.043137e-01, -1.999375e-01,  2.324243e-01],\n",
              "        [-1.508691e-01, -5.757124e-03,  3.165541e-01, ...,\n",
              "          8.317140e-01, -2.319457e-01,  2.576066e-01],\n",
              "        ...,\n",
              "        [-2.949353e-01, -1.123039e-02,  9.884312e-02, ...,\n",
              "          6.956257e-01, -2.217656e-01,  1.112952e-01],\n",
              "        [-2.434030e-01, -7.121083e-02,  1.158437e-01, ...,\n",
              "          7.479103e-01, -2.811496e-01,  1.263023e-01],\n",
              "        [-2.152148e-01, -1.182353e-01,  1.802014e-01, ...,\n",
              "          7.767680e-01, -3.275988e-01,  1.886212e-01]],\n",
              "\n",
              "       [[-6.480597e-02, -5.740777e-03,  3.102535e-01, ...,\n",
              "          9.279268e-01, -2.238010e-01,  2.628140e-01],\n",
              "        [-7.993300e-02, -3.260742e-03,  3.429152e-01, ...,\n",
              "          9.129872e-01, -2.210407e-01,  2.954154e-01],\n",
              "        [-6.834966e-02,  3.351273e-02,  3.850993e-01, ...,\n",
              "          9.246597e-01, -1.839923e-01,  3.376098e-01],\n",
              "        ...,\n",
              "        [-3.150159e-01,  5.451652e-02,  1.658256e-01, ...,\n",
              "          6.753473e-01, -1.620087e-01,  1.289247e-01],\n",
              "        [-3.307374e-01,  1.436651e-02,  2.109568e-01, ...,\n",
              "          6.603377e-01, -2.020367e-01,  1.722512e-01],\n",
              "        [-2.723475e-01, -1.284256e-02,  2.505605e-01, ...,\n",
              "          7.193530e-01, -2.291273e-01,  2.100712e-01]],\n",
              "\n",
              "       [[-1.944707e-01, -9.723743e-02,  2.030342e-01, ...,\n",
              "          7.980909e-01, -3.060512e-01,  2.093865e-01],\n",
              "        [-1.738025e-01, -5.831043e-02,  2.267976e-01, ...,\n",
              "          8.192417e-01, -2.666046e-01,  2.310711e-01],\n",
              "        [-1.275446e-01,  2.447115e-03,  3.319892e-01, ...,\n",
              "          8.658821e-01, -2.053607e-01,  3.341906e-01],\n",
              "        ...,\n",
              "        [-7.190685e-02, -1.943222e-01, -1.275547e-01, ...,\n",
              "          8.980947e-01, -3.977751e-01, -1.561050e-01],\n",
              "        [-1.422088e-01, -1.470701e-01, -9.236675e-02, ...,\n",
              "          8.283723e-01, -3.492473e-01, -1.227979e-01],\n",
              "        [-1.709989e-01, -1.313991e-01, -5.112688e-02, ...,\n",
              "          8.002428e-01, -3.323721e-01, -8.357159e-02]]], dtype=float32)"
            ]
          },
          "execution_count": 11,
          "metadata": {},
          "output_type": "execute_result"
        }
      ],
      "source": [
        "X_train"
      ]
    },
    {
      "cell_type": "code",
      "execution_count": null,
      "id": "af1668aa",
      "metadata": {
        "scrolled": true,
        "id": "af1668aa",
        "outputId": "95171e1c-1f18-4ebc-a9f8-7549befd6271"
      },
      "outputs": [
        {
          "data": {
            "text/plain": [
              "array([[0., 0., 0., 0., 1., 0.],\n",
              "       [0., 0., 0., 0., 1., 0.],\n",
              "       [0., 0., 0., 0., 1., 0.],\n",
              "       ...,\n",
              "       [0., 1., 0., 0., 0., 0.],\n",
              "       [0., 1., 0., 0., 0., 0.],\n",
              "       [0., 1., 0., 0., 0., 0.]], dtype=float32)"
            ]
          },
          "execution_count": 12,
          "metadata": {},
          "output_type": "execute_result"
        }
      ],
      "source": [
        "y_train"
      ]
    },
    {
      "cell_type": "code",
      "execution_count": null,
      "id": "96f4d70b",
      "metadata": {
        "id": "96f4d70b",
        "outputId": "1eb5b185-0429-430c-ce3f-1fdb9a8595aa"
      },
      "outputs": [
        {
          "data": {
            "text/plain": [
              "0.10206611"
            ]
          },
          "execution_count": 46,
          "metadata": {},
          "output_type": "execute_result"
        }
      ],
      "source": [
        "np.mean(X_train)"
      ]
    },
    {
      "cell_type": "code",
      "execution_count": null,
      "id": "cb420cf7",
      "metadata": {
        "id": "cb420cf7",
        "outputId": "1341b218-d38a-4d72-facf-7275bd3b24e3"
      },
      "outputs": [
        {
          "data": {
            "text/plain": [
              "0.40216514"
            ]
          },
          "execution_count": 47,
          "metadata": {},
          "output_type": "execute_result"
        }
      ],
      "source": [
        "np.std(X_train)"
      ]
    },
    {
      "cell_type": "markdown",
      "id": "94a14e16",
      "metadata": {
        "id": "94a14e16"
      },
      "source": [
        "## Fit and Evaluate Model"
      ]
    },
    {
      "cell_type": "code",
      "execution_count": null,
      "id": "a1d68bfe",
      "metadata": {
        "id": "a1d68bfe"
      },
      "outputs": [],
      "source": [
        "# set some additional parameters\n",
        "n_timesteps=X_train.shape[1]\n",
        "n_features=X_train.shape[2]\n",
        "n_outputs=y_train.shape[1]\n",
        "\n",
        "verbose=1\n",
        "epochs=15\n",
        "batch_size=64"
      ]
    },
    {
      "cell_type": "code",
      "execution_count": null,
      "id": "ea682aea",
      "metadata": {
        "id": "ea682aea"
      },
      "outputs": [],
      "source": [
        "def build_model():\n",
        "    model=Sequential()\n",
        "    model.add(LSTM(100, input_shape=(n_timesteps, n_features)))\n",
        "    model.add(Dropout(0.5))\n",
        "    model.add(Dense(100, activation='relu'))\n",
        "    model.add(Dense(n_outputs, activation='softmax'))\n",
        "\n",
        "    model.compile(loss='categorical_crossentropy', optimizer='adam', metrics=['accuracy'])\n",
        "\n",
        "    return model"
      ]
    },
    {
      "cell_type": "code",
      "execution_count": null,
      "id": "13c89db1",
      "metadata": {
        "id": "13c89db1",
        "outputId": "47a0b0f0-5d08-4520-94ef-9d0226f84de7"
      },
      "outputs": [
        {
          "name": "stdout",
          "output_type": "stream",
          "text": [
            "Epoch 1/15\n",
            "115/115 [==============================] - 11s 83ms/step - loss: 1.2155 - accuracy: 0.4884 - val_loss: 0.9298 - val_accuracy: 0.6390\n",
            "Epoch 2/15\n",
            "115/115 [==============================] - 9s 80ms/step - loss: 0.7564 - accuracy: 0.6734 - val_loss: 0.7524 - val_accuracy: 0.7218\n",
            "Epoch 3/15\n",
            "115/115 [==============================] - 9s 80ms/step - loss: 0.5928 - accuracy: 0.7643 - val_loss: 0.5866 - val_accuracy: 0.7631\n",
            "Epoch 4/15\n",
            "115/115 [==============================] - 9s 81ms/step - loss: 0.4271 - accuracy: 0.8419 - val_loss: 0.4432 - val_accuracy: 0.8459\n",
            "Epoch 5/15\n",
            "115/115 [==============================] - 9s 80ms/step - loss: 0.2786 - accuracy: 0.9079 - val_loss: 0.3494 - val_accuracy: 0.8816\n",
            "Epoch 6/15\n",
            "115/115 [==============================] - 9s 81ms/step - loss: 0.2513 - accuracy: 0.9101 - val_loss: 0.3618 - val_accuracy: 0.8700\n",
            "Epoch 7/15\n",
            "115/115 [==============================] - 9s 80ms/step - loss: 0.2132 - accuracy: 0.9249 - val_loss: 0.2899 - val_accuracy: 0.8921\n",
            "Epoch 8/15\n",
            "115/115 [==============================] - 9s 80ms/step - loss: 0.1571 - accuracy: 0.9403 - val_loss: 0.3356 - val_accuracy: 0.8968\n",
            "Epoch 9/15\n",
            "115/115 [==============================] - 9s 81ms/step - loss: 0.1860 - accuracy: 0.9327 - val_loss: 0.3462 - val_accuracy: 0.9040\n",
            "Epoch 10/15\n",
            "115/115 [==============================] - 9s 80ms/step - loss: 0.1600 - accuracy: 0.9406 - val_loss: 0.3261 - val_accuracy: 0.8856\n",
            "Epoch 11/15\n",
            "115/115 [==============================] - 9s 80ms/step - loss: 0.1464 - accuracy: 0.9414 - val_loss: 0.5427 - val_accuracy: 0.8500\n",
            "Epoch 12/15\n",
            "115/115 [==============================] - 9s 80ms/step - loss: 0.1802 - accuracy: 0.9336 - val_loss: 0.4503 - val_accuracy: 0.8982\n",
            "Epoch 13/15\n",
            "115/115 [==============================] - 9s 80ms/step - loss: 0.1293 - accuracy: 0.9463 - val_loss: 0.4745 - val_accuracy: 0.8975\n",
            "Epoch 14/15\n",
            "115/115 [==============================] - 9s 81ms/step - loss: 0.1550 - accuracy: 0.9436 - val_loss: 0.2977 - val_accuracy: 0.9013\n",
            "Epoch 15/15\n",
            "115/115 [==============================] - 9s 80ms/step - loss: 0.1294 - accuracy: 0.9489 - val_loss: 0.2695 - val_accuracy: 0.9111\n",
            "47/47 [==============================] - 1s 28ms/step - loss: 0.2695 - accuracy: 0.9111\n"
          ]
        }
      ],
      "source": [
        "model=build_model()\n",
        "\n",
        "# fit model\n",
        "history=model.fit(X_train, y_train, epochs=epochs, batch_size=batch_size, validation_data=(X_test, y_test), verbose=verbose)\n",
        "\n",
        "# evaluate model\n",
        "scores=model.evaluate(X_test, y_test, batch_size=batch_size, verbose=1)"
      ]
    },
    {
      "cell_type": "code",
      "execution_count": null,
      "id": "52a13e2f",
      "metadata": {
        "id": "52a13e2f",
        "outputId": "1582ce6e-364f-4831-b101-d6a30dddf60d"
      },
      "outputs": [
        {
          "data": {
            "text/plain": [
              "dict_keys(['loss', 'accuracy', 'val_loss', 'val_accuracy'])"
            ]
          },
          "execution_count": 41,
          "metadata": {},
          "output_type": "execute_result"
        }
      ],
      "source": [
        "history.history.keys()"
      ]
    },
    {
      "cell_type": "code",
      "execution_count": null,
      "id": "dd7878b5",
      "metadata": {
        "id": "dd7878b5",
        "outputId": "4dc6349d-f6d7-495b-aa69-799ea3631725"
      },
      "outputs": [
        {
          "name": "stdout",
          "output_type": "stream",
          "text": [
            "['loss', 'accuracy']\n",
            "test loss 0.26946958899497986\n",
            "test accuracy 0.9110960364341736\n"
          ]
        }
      ],
      "source": [
        "print(model.metrics_names)\n",
        "print('test loss', scores[0])\n",
        "print('test accuracy', scores[1])"
      ]
    },
    {
      "cell_type": "code",
      "execution_count": null,
      "id": "cd7b44a8",
      "metadata": {
        "scrolled": true,
        "id": "cd7b44a8",
        "outputId": "c42cdf72-1317-4ec0-8caf-1d0aa81c2a59"
      },
      "outputs": [
        {
          "name": "stdout",
          "output_type": "stream",
          "text": [
            "93/93 [==============================] - 2s 20ms/step\n"
          ]
        },
        {
          "data": {
            "text/plain": [
              "array([[4.4496256e-04, 6.5878901e-04, 4.1317293e-05, 5.6611352e-02,\n",
              "        9.4221354e-01, 3.0153864e-05],\n",
              "       [2.5400129e-04, 3.7459383e-04, 2.1483613e-05, 5.0662298e-02,\n",
              "        9.4867021e-01, 1.7440487e-05],\n",
              "       [2.2438299e-04, 3.3067644e-04, 1.8532724e-05, 4.9295098e-02,\n",
              "        9.5011562e-01, 1.5576514e-05],\n",
              "       ...,\n",
              "       [1.9050545e-04, 9.9964476e-01, 1.5692490e-04, 2.5162694e-06,\n",
              "        4.6744995e-06, 7.3071493e-07],\n",
              "       [1.8097152e-04, 9.9967432e-01, 1.2540063e-04, 6.1647697e-06,\n",
              "        1.0517745e-05, 2.5842578e-06],\n",
              "       [6.0092341e-05, 9.9988854e-01, 3.9189967e-05, 3.7008770e-06,\n",
              "        5.7718385e-06, 2.7241492e-06]], dtype=float32)"
            ]
          },
          "execution_count": 43,
          "metadata": {},
          "output_type": "execute_result"
        }
      ],
      "source": [
        "model.predict(X_test, verbose=1) # default batch_size = 32"
      ]
    },
    {
      "cell_type": "markdown",
      "id": "d2cb8600",
      "metadata": {
        "id": "d2cb8600"
      },
      "source": [
        "## Plot Learning Curves"
      ]
    },
    {
      "cell_type": "code",
      "execution_count": null,
      "id": "056b3bb0",
      "metadata": {
        "id": "056b3bb0",
        "outputId": "83c8f151-be2e-4795-bf53-0f659cb030df"
      },
      "outputs": [
        {
          "data": {
            "image/png": "[encoded data removed]",
            "text/plain": [
              "<Figure size 640x480 with 1 Axes>"
            ]
          },
          "metadata": {},
          "output_type": "display_data"
        }
      ],
      "source": [
        "# plot the accuracy of training and validation\n",
        "plt.plot(history.history['accuracy'])\n",
        "plt.plot(history.history['val_accuracy'])\n",
        "plt.title('model accuracy')\n",
        "plt.ylabel('accuracy')\n",
        "plt.xlabel('epoch')\n",
        "plt.legend(['train', 'val'], loc='upper left')\n",
        "plt.show()"
      ]
    },
    {
      "cell_type": "code",
      "execution_count": null,
      "id": "b38b31aa",
      "metadata": {
        "id": "b38b31aa",
        "outputId": "1fb43a17-8b2a-40ac-bb19-3fa8f4ccb12e"
      },
      "outputs": [
        {
          "data": {
            "image/png": "[encoded data removed]",
            "text/plain": [
              "<Figure size 640x480 with 1 Axes>"
            ]
          },
          "metadata": {},
          "output_type": "display_data"
        }
      ],
      "source": [
        "# plot the loss of training and validation\n",
        "plt.plot(history.history['loss'])\n",
        "plt.plot(history.history['val_loss'])\n",
        "plt.title('model loss')\n",
        "plt.ylabel('loss')\n",
        "plt.xlabel('epoch')\n",
        "plt.legend(['train', 'val'], loc='upper left')\n",
        "plt.show()"
      ]
    },
    {
      "cell_type": "code",
      "execution_count": null,
      "id": "1085be87",
      "metadata": {
        "id": "1085be87"
      },
      "outputs": [],
      "source": []
    }
  ],
  "metadata": {
    "kernelspec": {
      "display_name": "Python 3 (ipykernel)",
      "language": "python",
      "name": "python3"
    },
    "language_info": {
      "codemirror_mode": {
        "name": "ipython",
        "version": 3
      },
      "file_extension": ".py",
      "mimetype": "text/x-python",
      "name": "python",
      "nbconvert_exporter": "python",
      "pygments_lexer": "ipython3",
      "version": "3.9.15"
    },
    "colab": {
      "provenance": []
    }
  },
  "nbformat": 4,
  "nbformat_minor": 5
}