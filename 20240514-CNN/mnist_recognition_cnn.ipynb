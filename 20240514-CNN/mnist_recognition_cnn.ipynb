{
  "nbformat": 4,
  "nbformat_minor": 0,
  "metadata": {
    "colab": {
      "provenance": []
    },
    "kernelspec": {
      "name": "python3",
      "display_name": "Python 3"
    },
    "language_info": {
      "name": "python"
    }
  },
  "cells": [
    {
      "cell_type": "markdown",
      "source": [
        "# 進行資料前處理（Preprocess）\n",
        "\n",
        "\n",
        "> image reshape (60000, 28, 28, 1): CNN 因為必須先進行卷積與池化 (Max-Pool) 運算, 所以必須保留影像的維度. 因此 60,000 筆的每一筆圖像(28x28)轉換成 28 (長) x 28(寬) x 1(圖像頻道) 的影像單位。\n",
        "\n"
      ],
      "metadata": {
        "id": "6By8pPm6LnM2"
      }
    },
    {
      "cell_type": "markdown",
      "source": [
        "### 資料讀取與轉換"
      ],
      "metadata": {
        "id": "Vsn08sfXPAAa"
      }
    },
    {
      "cell_type": "code",
      "execution_count": 1,
      "metadata": {
        "colab": {
          "base_uri": "https://localhost:8080/"
        },
        "id": "71RVGnoHFHmh",
        "outputId": "01d67b17-8eba-41f5-8f20-3f6a91eb6a83"
      },
      "outputs": [
        {
          "output_type": "stream",
          "name": "stdout",
          "text": [
            "Downloading data from https://storage.googleapis.com/tensorflow/tf-keras-datasets/mnist.npz\n",
            "11490434/11490434 [==============================] - 1s 0us/step\n"
          ]
        }
      ],
      "source": [
        "from keras.datasets import mnist\n",
        "from tensorflow.python.keras.utils import np_utils\n",
        "import numpy as np\n",
        "\n",
        "np.random.seed(10)\n",
        "\n",
        "# Read MNIST data\n",
        "(X_Train, y_Train), (X_Test, y_Test)=mnist.load_data()\n",
        "\n",
        "# Translation of data\n",
        "X_Train4D=X_Train.reshape(X_Train.shape[0], 28, 28, 1).astype('float32')\n",
        "X_Test4D=X_Test.reshape(X_Test.shape[0], 28, 28, 1).astype('float32')"
      ]
    },
    {
      "cell_type": "code",
      "source": [
        "print(X_Train4D.shape)\n",
        "print(y_Train.shape)\n",
        "print(X_Test4D.shape)\n",
        "print(y_Test.shape)"
      ],
      "metadata": {
        "colab": {
          "base_uri": "https://localhost:8080/"
        },
        "id": "jOOyf8IEHrKe",
        "outputId": "d7d6468e-33a7-45ed-c7a2-b4254bd50726"
      },
      "execution_count": 2,
      "outputs": [
        {
          "output_type": "stream",
          "name": "stdout",
          "text": [
            "(60000, 28, 28, 1)\n",
            "(60000,)\n",
            "(10000, 28, 28, 1)\n",
            "(10000,)\n"
          ]
        }
      ]
    },
    {
      "cell_type": "markdown",
      "source": [
        "### 將 Features 進行標準化與 Label 的 Onehot-encoding"
      ],
      "metadata": {
        "id": "zGve-nWQPQ2K"
      }
    },
    {
      "cell_type": "code",
      "source": [
        "# Standardize feature data\n",
        "X_Train4D_norm=X_Train4D/255\n",
        "X_Test4D_norm=X_Test4D/255\n",
        "\n",
        "# Label Onehot-encoding\n",
        "y_TrainOneHot=np_utils.to_categorical(y_Train)\n",
        "y_TestOneHot=np_utils.to_categorical(y_Test)"
      ],
      "metadata": {
        "id": "56qynYBHG8qb"
      },
      "execution_count": 3,
      "outputs": []
    },
    {
      "cell_type": "code",
      "source": [
        "y_Train"
      ],
      "metadata": {
        "colab": {
          "base_uri": "https://localhost:8080/"
        },
        "id": "fU6_kwyrI8tV",
        "outputId": "7fab94c3-c1cc-4bc5-9562-d291357aedc7"
      },
      "execution_count": 4,
      "outputs": [
        {
          "output_type": "execute_result",
          "data": {
            "text/plain": [
              "array([5, 0, 4, ..., 5, 6, 8], dtype=uint8)"
            ]
          },
          "metadata": {},
          "execution_count": 4
        }
      ]
    },
    {
      "cell_type": "code",
      "source": [
        "y_TrainOneHot"
      ],
      "metadata": {
        "colab": {
          "base_uri": "https://localhost:8080/"
        },
        "id": "2wWIjzq1IzFm",
        "outputId": "483169ea-68d7-416a-e05e-3ce750471290"
      },
      "execution_count": 5,
      "outputs": [
        {
          "output_type": "execute_result",
          "data": {
            "text/plain": [
              "array([[0., 0., 0., ..., 0., 0., 0.],\n",
              "       [1., 0., 0., ..., 0., 0., 0.],\n",
              "       [0., 0., 0., ..., 0., 0., 0.],\n",
              "       ...,\n",
              "       [0., 0., 0., ..., 0., 0., 0.],\n",
              "       [0., 0., 0., ..., 0., 0., 0.],\n",
              "       [0., 0., 0., ..., 0., 1., 0.]], dtype=float32)"
            ]
          },
          "metadata": {},
          "execution_count": 5
        }
      ]
    },
    {
      "cell_type": "markdown",
      "source": [
        "# 建立模型（CNN卷積神經網路）"
      ],
      "metadata": {
        "id": "er_niDznR4uY"
      }
    },
    {
      "cell_type": "markdown",
      "source": [
        "### 建立 Convolutional layers 與 Pooling layers"
      ],
      "metadata": {
        "id": "zh8Cs5X8SPqn"
      }
    },
    {
      "cell_type": "code",
      "source": [
        "from keras.models import Sequential\n",
        "from keras.layers import Dense, Dropout, Flatten, Conv2D, MaxPool2D\n",
        "\n",
        "model=Sequential()\n",
        "\n",
        "# Create CN layer 1\n",
        "# padding: string, either \"valid\" or \"same\" (case-insensitive). \"valid\" means no padding. \"same\" results in padding evenly to the left/right or up/down of the input. When padding=\"same\" and strides=1, the output has the same size as the input.\n",
        "# kernel_initializer: Initializer for the convolution kernel. If None, the default initializer (\"glorot_uniform\") will be used.\n",
        "# bias_initializer: Initializer for the bias vector. If None, the default initializer (\"zeros\") will be used.\n",
        "model.add(Conv2D(filters=16,\n",
        "                 kernel_size=(5, 5),\n",
        "                 padding='same',\n",
        "                 input_shape=(28, 28, 1),\n",
        "                 activation='relu'))\n",
        "\n",
        "# Create Max-Pool 1\n",
        "model.add(MaxPool2D(pool_size=(2, 2)))\n",
        "\n",
        "# Create CN layer 2\n",
        "model.add(Conv2D(filters=36,\n",
        "                 kernel_size=(5, 5),\n",
        "                 padding='same',\n",
        "                 activation='relu'))\n",
        "\n",
        "# Create Max-Pool 2\n",
        "model.add(MaxPool2D(pool_size=(2, 2)))\n",
        "\n",
        "# Add Dropout layer\n",
        "model.add(Dropout(0.25))"
      ],
      "metadata": {
        "id": "gUIWjBZGI3L4"
      },
      "execution_count": 6,
      "outputs": []
    },
    {
      "cell_type": "markdown",
      "source": [
        "### 建立 Fully connected layer, Hidden layer 與 Output layer"
      ],
      "metadata": {
        "id": "4mFGZby2ScaK"
      }
    },
    {
      "cell_type": "code",
      "source": [
        "# convert (7, 7, 36) image to 1D vector, so 36x7x7 = 1764 neurons in total\n",
        "model.add(Flatten())\n",
        "\n",
        "# hidden layer\n",
        "model.add(Dense(128, activation='relu'))\n",
        "model.add(Dropout(0.5))\n",
        "\n",
        "# output layer\n",
        "model.add(Dense(10, activation='softmax'))"
      ],
      "metadata": {
        "id": "AKVfYuoSK52S"
      },
      "execution_count": 7,
      "outputs": []
    },
    {
      "cell_type": "code",
      "source": [
        "model.summary()\n",
        "print(\"\")"
      ],
      "metadata": {
        "colab": {
          "base_uri": "https://localhost:8080/"
        },
        "id": "wjbaWwsYLXpx",
        "outputId": "bc33bd17-aa29-4e25-9c6f-5982ff407b5c"
      },
      "execution_count": 8,
      "outputs": [
        {
          "output_type": "stream",
          "name": "stdout",
          "text": [
            "Model: \"sequential\"\n",
            "_________________________________________________________________\n",
            " Layer (type)                Output Shape              Param #   \n",
            "=================================================================\n",
            " conv2d (Conv2D)             (None, 28, 28, 16)        416       \n",
            "                                                                 \n",
            " max_pooling2d (MaxPooling2  (None, 14, 14, 16)        0         \n",
            " D)                                                              \n",
            "                                                                 \n",
            " conv2d_1 (Conv2D)           (None, 14, 14, 36)        14436     \n",
            "                                                                 \n",
            " max_pooling2d_1 (MaxPoolin  (None, 7, 7, 36)          0         \n",
            " g2D)                                                            \n",
            "                                                                 \n",
            " dropout (Dropout)           (None, 7, 7, 36)          0         \n",
            "                                                                 \n",
            " flatten (Flatten)           (None, 1764)              0         \n",
            "                                                                 \n",
            " dense (Dense)               (None, 128)               225920    \n",
            "                                                                 \n",
            " dropout_1 (Dropout)         (None, 128)               0         \n",
            "                                                                 \n",
            " dense_1 (Dense)             (None, 10)                1290      \n",
            "                                                                 \n",
            "=================================================================\n",
            "Total params: 242062 (945.55 KB)\n",
            "Trainable params: 242062 (945.55 KB)\n",
            "Non-trainable params: 0 (0.00 Byte)\n",
            "_________________________________________________________________\n",
            "\n"
          ]
        }
      ]
    },
    {
      "cell_type": "markdown",
      "source": [
        "# 進行訓練"
      ],
      "metadata": {
        "id": "5_CfIH4IbEc9"
      }
    },
    {
      "cell_type": "markdown",
      "source": [
        "### 定義訓練並進行訓練"
      ],
      "metadata": {
        "id": "b1Dy7-ka7J1h"
      }
    },
    {
      "cell_type": "code",
      "source": [
        "# set training parameters\n",
        "model.compile(loss='categorical_crossentropy', optimizer='adam', metrics=['accuracy'])\n",
        "\n",
        "# start training\n",
        "train_history=model.fit(x=X_Train4D_norm,\n",
        "                        y=y_TrainOneHot, validation_split=0.2,\n",
        "                        epochs=10, batch_size=300, verbose=1)"
      ],
      "metadata": {
        "colab": {
          "base_uri": "https://localhost:8080/"
        },
        "id": "6QhVIMkNLa96",
        "outputId": "20bd4bb9-607b-49c5-fb50-498a9dc1e338"
      },
      "execution_count": 9,
      "outputs": [
        {
          "output_type": "stream",
          "name": "stdout",
          "text": [
            "Epoch 1/10\n",
            "160/160 [==============================] - 68s 406ms/step - loss: 0.5049 - accuracy: 0.8412 - val_loss: 0.1011 - val_accuracy: 0.9705\n",
            "Epoch 2/10\n",
            "160/160 [==============================] - 66s 415ms/step - loss: 0.1434 - accuracy: 0.9570 - val_loss: 0.0633 - val_accuracy: 0.9808\n",
            "Epoch 3/10\n",
            "160/160 [==============================] - 63s 395ms/step - loss: 0.1011 - accuracy: 0.9697 - val_loss: 0.0510 - val_accuracy: 0.9858\n",
            "Epoch 4/10\n",
            "160/160 [==============================] - 62s 390ms/step - loss: 0.0836 - accuracy: 0.9753 - val_loss: 0.0439 - val_accuracy: 0.9880\n",
            "Epoch 5/10\n",
            "160/160 [==============================] - 61s 383ms/step - loss: 0.0706 - accuracy: 0.9789 - val_loss: 0.0413 - val_accuracy: 0.9873\n",
            "Epoch 6/10\n",
            "160/160 [==============================] - 64s 401ms/step - loss: 0.0606 - accuracy: 0.9821 - val_loss: 0.0371 - val_accuracy: 0.9892\n",
            "Epoch 7/10\n",
            "160/160 [==============================] - 60s 373ms/step - loss: 0.0551 - accuracy: 0.9836 - val_loss: 0.0366 - val_accuracy: 0.9892\n",
            "Epoch 8/10\n",
            "160/160 [==============================] - 60s 377ms/step - loss: 0.0490 - accuracy: 0.9851 - val_loss: 0.0354 - val_accuracy: 0.9895\n",
            "Epoch 9/10\n",
            "160/160 [==============================] - 58s 362ms/step - loss: 0.0455 - accuracy: 0.9859 - val_loss: 0.0311 - val_accuracy: 0.9908\n",
            "Epoch 10/10\n",
            "160/160 [==============================] - 57s 356ms/step - loss: 0.0416 - accuracy: 0.9875 - val_loss: 0.0325 - val_accuracy: 0.9904\n"
          ]
        }
      ]
    },
    {
      "cell_type": "markdown",
      "source": [
        "### 畫出 accuracy 執行結果"
      ],
      "metadata": {
        "id": "88zFbE_n7UDh"
      }
    },
    {
      "cell_type": "code",
      "source": [
        "import matplotlib.pyplot as plt\n",
        "\n",
        "def plot_image(image):\n",
        "    fig=plt.gcf()\n",
        "    fig.set_size_inches(2, 2)\n",
        "    plt.imshow(image, cmap='binary')\n",
        "    plt.show()\n",
        "\n",
        "def plot_images_labels_predict(images, labels, prediction, idx, num=20):\n",
        "    fig=plt.gcf()\n",
        "    fig.set_size_inches(12, 14)\n",
        "    if num>25:\n",
        "        num=25\n",
        "    for i in range(0, num):\n",
        "        ax=plt.subplot(5, 5, 1+i)\n",
        "        ax.imshow(images[idx], cmap='binary')\n",
        "        title=\"l=\"+str(labels[idx])\n",
        "        if len(prediction)>0:\n",
        "            title=\"l={},p={}\".format(str(labels[idx]), str(prediction[idx]))\n",
        "        else:\n",
        "            title=\"l={}\".format(str(labels[idx]))\n",
        "        ax.set_title(title, fontsize=10)\n",
        "        ax.set_xticks([]); ax.set_yticks([])\n",
        "        idx+=1\n",
        "    plt.show()\n",
        "\n",
        "def show_train_history(train_history, train, validation):\n",
        "    plt.plot(train_history.history[train])\n",
        "    plt.plot(train_history.history[validation])\n",
        "    plt.title('Train History')\n",
        "    plt.ylabel(train)\n",
        "    plt.xlabel('Epoch')\n",
        "    plt.legend(['train', 'validation'], loc='upper left')\n",
        "    plt.show()"
      ],
      "metadata": {
        "id": "KuPm0eyFRS3o"
      },
      "execution_count": 15,
      "outputs": []
    },
    {
      "cell_type": "code",
      "source": [
        "show_train_history(train_history, 'accuracy', 'val_accuracy')"
      ],
      "metadata": {
        "colab": {
          "base_uri": "https://localhost:8080/",
          "height": 472
        },
        "id": "N1eeJQx9UP4P",
        "outputId": "8e2f03a4-b6a1-48f0-a52f-9ed474d1a9be"
      },
      "execution_count": 11,
      "outputs": [
        {
          "output_type": "display_data",
          "data": {
            "text/plain": [
              "<Figure size 640x480 with 1 Axes>"
            ],
            "image/png": "[encoded data removed]"
          },
          "metadata": {}
        }
      ]
    },
    {
      "cell_type": "code",
      "source": [
        "show_train_history(train_history, 'loss', 'val_loss')"
      ],
      "metadata": {
        "colab": {
          "base_uri": "https://localhost:8080/",
          "height": 472
        },
        "id": "JNK3mF-1UeCN",
        "outputId": "847224c7-ad96-4d24-f4aa-434a1ac9b37a"
      },
      "execution_count": 12,
      "outputs": [
        {
          "output_type": "display_data",
          "data": {
            "text/plain": [
              "<Figure size 640x480 with 1 Axes>"
            ],
            "image/png": "[encoded data removed]"
          },
          "metadata": {}
        }
      ]
    },
    {
      "cell_type": "markdown",
      "source": [
        "# 評估模型準確率與進行預測"
      ],
      "metadata": {
        "id": "vhtAyHkPbQ9V"
      }
    },
    {
      "cell_type": "markdown",
      "source": [
        "### 評估模型準確率"
      ],
      "metadata": {
        "id": "AVFl_eKP9ZPo"
      }
    },
    {
      "cell_type": "code",
      "source": [
        "scores=model.evaluate(X_Test4D_norm, y_TestOneHot)\n",
        "print()\n",
        "print(\"\\t[Info] Accuracy of testing data = {:2.1f}%\".format(scores[1]*100.0))"
      ],
      "metadata": {
        "colab": {
          "base_uri": "https://localhost:8080/"
        },
        "id": "XUeK1UMAVCxp",
        "outputId": "f35422bb-c10f-4a31-d583-1ae261765a8c"
      },
      "execution_count": 13,
      "outputs": [
        {
          "output_type": "stream",
          "name": "stdout",
          "text": [
            "313/313 [==============================] - 4s 12ms/step - loss: 0.0245 - accuracy: 0.9915\n",
            "\n",
            "\t[Info] Accuracy of testing data = 99.2%\n"
          ]
        }
      ]
    },
    {
      "cell_type": "code",
      "source": [
        "scores"
      ],
      "metadata": {
        "colab": {
          "base_uri": "https://localhost:8080/"
        },
        "id": "f6SwHO5I-I01",
        "outputId": "47c33e99-e08f-4473-ae04-c90189fdb3c3"
      },
      "execution_count": 14,
      "outputs": [
        {
          "output_type": "execute_result",
          "data": {
            "text/plain": [
              "[0.024519866332411766, 0.9915000200271606]"
            ]
          },
          "metadata": {},
          "execution_count": 14
        }
      ]
    },
    {
      "cell_type": "markdown",
      "source": [
        "### 預測結果"
      ],
      "metadata": {
        "id": "FDNZRToG9d2B"
      }
    },
    {
      "cell_type": "code",
      "source": [
        "print(\"\\t[Info] Making prediction of X_Test4D_norm\")\n",
        "predict_x=model.predict(X_Test4D_norm) # Making prediction and save result to prediction\n",
        "classes_x=np.argmax(predict_x, axis=1)\n",
        "print()\n",
        "print(\"\\t[Info] Show 20 prediction result (From 240):\")\n",
        "print(\"%s\\n\" % (classes_x[240:260]))"
      ],
      "metadata": {
        "colab": {
          "base_uri": "https://localhost:8080/"
        },
        "id": "08qy3gAIaURt",
        "outputId": "f7b2c11c-d977-485f-e947-9365d244a60d"
      },
      "execution_count": 18,
      "outputs": [
        {
          "output_type": "stream",
          "name": "stdout",
          "text": [
            "\t[Info] Making prediction of X_Test4D_norm\n",
            "313/313 [==============================] - 5s 17ms/step\n",
            "\n",
            "\t[Info] Show 20 prediction result (From 240):\n",
            "[5 9 8 7 2 3 0 4 4 2 4 1 9 5 7 7 2 8 2 6]\n",
            "\n"
          ]
        }
      ]
    },
    {
      "cell_type": "markdown",
      "source": [
        "### 顯示前 20 筆預測結果"
      ],
      "metadata": {
        "id": "1Dl0GBX79ksV"
      }
    },
    {
      "cell_type": "code",
      "source": [
        "plot_images_labels_predict(X_Test, y_Test, classes_x, idx=240)"
      ],
      "metadata": {
        "colab": {
          "base_uri": "https://localhost:8080/",
          "height": 885
        },
        "id": "nwqWU8KZbBvr",
        "outputId": "c484d5a3-babb-4da8-89f5-3ed8c2a587f8"
      },
      "execution_count": 17,
      "outputs": [
        {
          "output_type": "display_data",
          "data": {
            "text/plain": [
              "<Figure size 1200x1400 with 20 Axes>"
            ],
            "image/png": "[encoded data removed]"
          },
          "metadata": {}
        }
      ]
    },
    {
      "cell_type": "markdown",
      "source": [
        "### 顯示混淆矩陣（Confusion matrix）"
      ],
      "metadata": {
        "id": "CPBPa1WjQ3Gc"
      }
    },
    {
      "cell_type": "code",
      "source": [
        "print(\"\\t[Info] Display Confusion Matrix:\")\n",
        "import pandas as pd\n",
        "print(\"%s\\n\" % pd.crosstab(y_Test, classes_x, rownames=['label'], colnames=['predict']))"
      ],
      "metadata": {
        "colab": {
          "base_uri": "https://localhost:8080/"
        },
        "id": "X2vnpehiP1vz",
        "outputId": "f27ecd5a-7815-4d0d-b015-9ca9c3be0a90"
      },
      "execution_count": 19,
      "outputs": [
        {
          "output_type": "stream",
          "name": "stdout",
          "text": [
            "\t[Info] Display Confusion Matrix:\n",
            "predict    0     1     2     3    4    5    6     7    8    9\n",
            "label                                                        \n",
            "0        976     1     0     0    0    0    1     1    1    0\n",
            "1          0  1132     1     0    0    0    0     0    2    0\n",
            "2          4     1  1025     0    0    0    0     2    0    0\n",
            "3          0     0     0  1005    0    1    0     1    2    1\n",
            "4          0     0     1     0  978    0    0     0    1    2\n",
            "5          2     1     0     4    0  883    1     0    0    1\n",
            "6          4     3     0     0    2    3  945     0    1    0\n",
            "7          0     2     4     2    1    0    0  1016    1    2\n",
            "8          4     1     1     1    3    1    0     1  958    4\n",
            "9          0     1     0     0    5    2    0     4    0  997\n",
            "\n"
          ]
        }
      ]
    },
    {
      "cell_type": "code",
      "source": [],
      "metadata": {
        "id": "d5y55Dj_Qi6O"
      },
      "execution_count": null,
      "outputs": []
    }
  ]
}